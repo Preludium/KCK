{
 "cells": [
  {
   "cell_type": "code",
   "execution_count": 7,
   "metadata": {},
   "outputs": [],
   "source": [
    "import matplotlib.pyplot as pltdef \n",
    "\n",
    "def importCSV():\n",
    "    \n",
    "\n",
    "def main():\n",
    "    plt.figure(figsize=(3, 3))\n",
    "    plt.plot([100,200,300,400],[0.1,0.2,0.8,0.9])\n",
    "    plt.savefig('myplot.pdf')\n",
    "    plt.close()\n",
    "    \n",
    "if __name__ =='__main__':\n",
    "    main()"
   ]
  }
 ],
 "metadata": {
  "kernelspec": {
   "display_name": "Python 3",
   "language": "python",
   "name": "python3"
  },
  "language_info": {
   "codemirror_mode": {
    "name": "ipython",
    "version": 3
   },
   "file_extension": ".py",
   "mimetype": "text/x-python",
   "name": "python",
   "nbconvert_exporter": "python",
   "pygments_lexer": "ipython3",
   "version": "3.6.8"
  }
 },
 "nbformat": 4,
 "nbformat_minor": 2
}
